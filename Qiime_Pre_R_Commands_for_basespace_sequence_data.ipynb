{
  "nbformat": 4,
  "nbformat_minor": 0,
  "metadata": {
    "colab": {
      "name": "Qiime_Pre-R-Commands_for_basespace_sequence_data.ipynb",
      "provenance": [],
      "collapsed_sections": [],
      "mount_file_id": "1747nrvE5P7k-P5oqUKrH9ydf0CGdImA5",
      "authorship_tag": "ABX9TyOIJOHzGJ1Z2PeIKj3dls1C",
      "include_colab_link": true
    },
    "kernelspec": {
      "display_name": "Python 3",
      "name": "python3"
    },
    "language_info": {
      "name": "python"
    }
  },
  "cells": [
    {
      "cell_type": "markdown",
      "metadata": {
        "id": "view-in-github",
        "colab_type": "text"
      },
      "source": [
        "<a href=\"https://colab.research.google.com/github/pjd-code/microbiome-tools/blob/main/Qiime_Pre_R_Commands_for_basespace_sequence_data.ipynb\" target=\"_parent\"><img src=\"https://colab.research.google.com/assets/colab-badge.svg\" alt=\"Open In Colab\"/></a>"
      ]
    },
    {
      "cell_type": "markdown",
      "metadata": {
        "id": "yLpshTbgvw9H"
      },
      "source": [
        "# **Preparing the Notebook**\n",
        "\n",
        "We will be using Google Colab notebooks for our microbiome analysis. There are several advantages to this. First, Colab notebooks are entirly cloud based and will run on any operating system this is important since Qiime2 will only work with unix systems and currently does not run on Windows. Second, it allows us to standardize and share our workflows so that other scientist can more easily replicate (or disprove) our results."
      ]
    },
    {
      "cell_type": "code",
      "metadata": {
        "id": "WwVZA9odXcOc"
      },
      "source": [
        "#mount your google drive with the following command\n",
        "from google.colab import drive\n",
        "drive.mount('/content/drive')"
      ],
      "execution_count": null,
      "outputs": []
    },
    {
      "cell_type": "code",
      "metadata": {
        "id": "ahdRn6kvlVcz"
      },
      "source": [
        "#clean up the Colab environment\n",
        "%cd /content/sample_data\n",
        "!rm *.csv\n",
        "!rm *.md\n",
        "!rm *.json\n",
        "%cd /content"
      ],
      "execution_count": null,
      "outputs": []
    },
    {
      "cell_type": "code",
      "metadata": {
        "id": "xFQQAxqaUqnl"
      },
      "source": [
        "#use wget and the specific dropbox url plus any wget flags you want to use\n",
        "!wget https://www.dropbox.com/s/xsmm369v9vf1pa2/v4_gg_13_5_classifier.qza -P /content/sample_data"
      ],
      "execution_count": null,
      "outputs": []
    },
    {
      "cell_type": "code",
      "metadata": {
        "id": "UvmsE9Psx3fK"
      },
      "source": [
        "#@title ## File path for metadata file.\n",
        "#@markdown Import your metadata file then copy the path and past it below.\n",
        "\n",
        "metadata_file_path = \"/content/sample_data/milipede_v4_metadata.txt\" #@param {type:\"string\"}\n",
        "\n",
        "print(metadata_file_path)"
      ],
      "execution_count": null,
      "outputs": []
    },
    {
      "cell_type": "markdown",
      "metadata": {
        "id": "aNi4oN21wCPy"
      },
      "source": [
        "###Download the Material\n",
        "Click the Play button on the Cell beneath this line of text to get started with the setup. Once the cell has finished running you will see a number next where the play button used to be and the output beneeth the cell, this can be text or visualizations depending on what code was run."
      ]
    },
    {
      "cell_type": "code",
      "metadata": {
        "id": "fJ5Rky1_HtPS"
      },
      "source": [
        "!git clone https://github.com/pjd-code/millipede_test.git"
      ],
      "execution_count": null,
      "outputs": []
    },
    {
      "cell_type": "markdown",
      "metadata": {
        "id": "ArIFn_BVvvLU"
      },
      "source": [
        "###Setup\n",
        "Now that we have the files we need, we are going to install Qiime2 on our notebook. The next step can take up to 15 minutes so while it is running please continue reading about what we will be doing today."
      ]
    },
    {
      "cell_type": "code",
      "metadata": {
        "id": "9IPOYjMptFUe"
      },
      "source": [
        "%run /content/millipede_test/setup_qiime2.py"
      ],
      "execution_count": null,
      "outputs": []
    },
    {
      "cell_type": "code",
      "metadata": {
        "id": "GJBN-jtNH1Ki"
      },
      "source": [
        "%cd /bin"
      ],
      "execution_count": null,
      "outputs": []
    },
    {
      "cell_type": "markdown",
      "metadata": {
        "id": "7ZQc3C4axWPb"
      },
      "source": [
        "### BaseSpace Sequence Hub CLI\n",
        "You can work with your BaseSpace Sequence Hub data using the command line interface (CLI). The BaseSpace Sequence Hub CLI supports scripting and programmatic access to BaseSpace Sequence Hub for automation, bulk operations, and other routine functions. It can be used independently or in conjunction with BaseMount."
      ]
    },
    {
      "cell_type": "code",
      "metadata": {
        "id": "2XBqIu5DH0Va"
      },
      "source": [
        "#download the base space command line app\n",
        "!wget \"https://launch.basespace.illumina.com/CLI/latest/amd64-linux/bs\" -O /bin/bs\n",
        "\n",
        "#this command changes our basespace file (bs) to an executable\n",
        "!chmod u+x /bin/bs"
      ],
      "execution_count": null,
      "outputs": []
    },
    {
      "cell_type": "code",
      "metadata": {
        "id": "6dqQNU5SnmbF"
      },
      "source": [
        "#once we have changed the file type we can run the following command to sign in to basespace from colab\n",
        "#this will allow us to download directly from basespace\n",
        "!bs auth"
      ],
      "execution_count": null,
      "outputs": []
    },
    {
      "cell_type": "code",
      "metadata": {
        "id": "FtNR3UVP5JYv"
      },
      "source": [
        "#check to make sure you are logged in\n",
        "!bs  whoami"
      ],
      "execution_count": null,
      "outputs": []
    },
    {
      "cell_type": "code",
      "metadata": {
        "id": "L-GuvXQ4-LGh"
      },
      "source": [
        "%%capture\n",
        "!bs project download --id 308529222 --extension=fastq.gz -o /content/sample_data"
      ],
      "execution_count": null,
      "outputs": []
    },
    {
      "cell_type": "markdown",
      "metadata": {
        "id": "KQhD4ozjc9v7"
      },
      "source": [
        "###Clean up and organization steps.\n"
      ]
    },
    {
      "cell_type": "code",
      "metadata": {
        "id": "sygKX_hxXDUK"
      },
      "source": [
        "%cd /content/sample_data"
      ],
      "execution_count": null,
      "outputs": []
    },
    {
      "cell_type": "code",
      "metadata": {
        "id": "3Kgq08bMhC2h"
      },
      "source": [
        "#consolidate in one folder\n",
        "!mkdir samples \n",
        "!find . -name \"*.gz\" -exec mv \"{}\" samples \\;\n",
        "!rmdir */\n",
        "!rm *.json"
      ],
      "execution_count": null,
      "outputs": []
    },
    {
      "cell_type": "markdown",
      "metadata": {
        "id": "czNYvW119LnK"
      },
      "source": [
        "**Casava 1.8 paired-end demultiplexed fastq**\n",
        "\n",
        "Format description\n",
        "In Casava 1.8 demultiplexed (paired-end) format, there are two fastq.gz files for each sample in the study, each containing the forward or reverse reads for that sample. The file name includes the sample identifier. The forward and reverse read file names for a single sample might look like L2S357_15_L001_R1_001.fastq.gz and L2S357_15_L001_R2_001.fastq.gz, respectively. The underscore-separated fields in this file name are:\n",
        "\n",
        "1. the sample identifier,\n",
        "2. the barcode sequence or a barcode identifier,\n",
        "3. the lane number,\n",
        "4. the direction of the read (i.e. R1 or R2), and\n",
        "5. the set number."
      ]
    },
    {
      "cell_type": "code",
      "metadata": {
        "id": "E3XDQtT7iWEg"
      },
      "source": [
        "!qiime tools import \\\n",
        "  --type 'SampleData[PairedEndSequencesWithQuality]' \\\n",
        "  --input-path /content/sample_data/samples \\\n",
        "  --input-format CasavaOneEightSingleLanePerSampleDirFmt \\\n",
        "  --output-path demux-paired-end.qza"
      ],
      "execution_count": null,
      "outputs": []
    },
    {
      "cell_type": "code",
      "metadata": {
        "id": "FvzEU9W7kZUa"
      },
      "source": [
        "!qiime tools peek demux-paired-end.qza"
      ],
      "execution_count": null,
      "outputs": []
    },
    {
      "cell_type": "code",
      "metadata": {
        "id": "ove7XE5_ktRo"
      },
      "source": [
        "!qiime demux summarize \\\n",
        "  --i-data demux-paired-end.qza \\\n",
        "  --o-visualization demux-paired-end.qzv"
      ],
      "execution_count": null,
      "outputs": []
    },
    {
      "cell_type": "code",
      "metadata": {
        "id": "_Pu62Tz-mvZB"
      },
      "source": [
        "# This method denoises paired-end sequences, dereplicates them, and filters chimeras.\n",
        "# p-trunc-len-f : truncates the 3' end of the forward read sequences due to decrease in quality\n",
        "# p-trunc-len-r : truncates the 3' end of the reverse read sequences due to decrease in quality\n",
        "# p-trim-left-f : trims the 5' end of the forward read sequences due to decrease in quality\n",
        "# p-trim-left-r  : trims the 5' end of the reverse read sequences due to decrease in quality\n",
        "\n",
        "!qiime dada2 denoise-single \\\n",
        "  --i-demultiplexed-seqs demux-paired-end.qza \\\n",
        "  --p-trim-left 0 \\\n",
        "  --p-trunc-len 150 \\\n",
        "  --o-representative-sequences rep-seqs-dada2.qza \\\n",
        "  --o-table table-dada2.qza \\\n",
        "  --o-denoising-stats stats-dada2.qza"
      ],
      "execution_count": null,
      "outputs": []
    },
    {
      "cell_type": "code",
      "metadata": {
        "id": "Tdsqtv3Ln9CJ"
      },
      "source": [
        "%cd /content/sample_data\n",
        "!qiime feature-table summarize \\\n",
        "  --i-table table-dada2.qza \\\n",
        "  --o-visualization table-dada2.qzv \\\n",
        "  --m-sample-metadata-file {metadata_file_path}\n",
        "\n",
        "!qiime feature-table tabulate-seqs \\\n",
        "  --i-data rep-seqs-dada2.qza \\\n",
        "  --o-visualization rep-seqs.qzv"
      ],
      "execution_count": null,
      "outputs": []
    },
    {
      "cell_type": "code",
      "metadata": {
        "id": "l9BUBh1AEidy"
      },
      "source": [
        "#allows you to cluster at 97% identity (this is optional)\n",
        "'''\n",
        "!qiime vsearch cluster-features-open-reference \\\n",
        "  --i-sequences rep-seqs-dada2.qza \\\n",
        "  --i-table table-dada2.qza \\\n",
        "  --i-reference-sequences /content/millipede_test/se-v4-97-ref-seqs.qza \\\n",
        "  --p-perc-identity 0.97 \\\n",
        "  --p-strand plus \\\n",
        "  --p-threads 0 \\\n",
        "  --o-clustered-table table-clust97.qza \\\n",
        "  --o-clustered-sequences seqs-clust97.qza \\\n",
        "  --o-new-reference-sequences RefSeq-vsearch.qza\n",
        "  '''"
      ],
      "execution_count": null,
      "outputs": []
    },
    {
      "cell_type": "code",
      "metadata": {
        "id": "Er52-e6ENOaH"
      },
      "source": [
        "!qiime phylogeny align-to-tree-mafft-fasttree \\\n",
        "  --i-sequences rep-seqs-dada2.qza \\\n",
        "  --o-alignment aligned-rep-seqs.qza \\\n",
        "  --o-masked-alignment masked-aligned-rep-seqs.qza \\\n",
        "  --o-tree unrooted-tree.qza \\\n",
        "  --o-rooted-tree rooted-tree.qza"
      ],
      "execution_count": null,
      "outputs": []
    },
    {
      "cell_type": "code",
      "metadata": {
        "id": "UddjEFftjNpr"
      },
      "source": [
        "!qiime feature-classifier classify-sklearn \\\n",
        "  --i-classifier /content/sample_data/v4_gg_13_5_classifier.qza \\\n",
        "  --i-reads rep-seqs-dada2.qza \\\n",
        "  --p-reads-per-batch auto \\\n",
        "  --p-n-jobs -1 \\\n",
        "  --o-classification taxonomy.qza"
      ],
      "execution_count": null,
      "outputs": []
    },
    {
      "cell_type": "code",
      "metadata": {
        "id": "JZKFlSNNaiSN"
      },
      "source": [
        "!qiime taxa collapse \\\n",
        "--i-table table-dada2.qza \\\n",
        "--i-taxonomy taxonomy.qza \\\n",
        "--p-level 7 \\\n",
        "--o-collapsed-table FeatureTable-TaxaCollapse.qza"
      ],
      "execution_count": null,
      "outputs": []
    },
    {
      "cell_type": "code",
      "metadata": {
        "id": "FyqvS_JWbIOc"
      },
      "source": [
        "!qiime tools export \\\n",
        "  --input-path FeatureTable-TaxaCollapse.qza \\\n",
        "  --output-path feature-table"
      ],
      "execution_count": null,
      "outputs": []
    },
    {
      "cell_type": "code",
      "metadata": {
        "id": "2iKXifSxbNl8"
      },
      "source": [
        "!biom convert \\\n",
        "-i /content/sample_data/feature-table/feature-table.biom \\\n",
        "-o table.tsv \\\n",
        "--to-tsv"
      ],
      "execution_count": 50,
      "outputs": []
    },
    {
      "cell_type": "markdown",
      "metadata": {
        "id": "JGD-BBy6INdd"
      },
      "source": [
        "#We will switch to R for the remaining analysis"
      ]
    },
    {
      "cell_type": "code",
      "metadata": {
        "id": "WG0VfR92s8Gi"
      },
      "source": [
        "!qiime diversity core-metrics-phylogenetic \\\n",
        "  --i-table table-dada2.qza \\\n",
        "  --i-phylogeny rooted-tree.qza \\\n",
        "  --p-sampling-depth 200 \\\n",
        "  --m-metadata-file {metadata_file_path} \\\n",
        "  --output-dir CoreDiversityMetrics"
      ],
      "execution_count": null,
      "outputs": []
    },
    {
      "cell_type": "code",
      "metadata": {
        "id": "TK1tbCKos7-m"
      },
      "source": [
        "!qiime taxa barplot \\\n",
        "--i-table table-dada2.qza \\\n",
        "--i-taxonomy taxonomy.qza \\\n",
        "--m-metadata-file {metadata_file_path} \\\n",
        "--o-visualization taxa-barplot.qzv"
      ],
      "execution_count": null,
      "outputs": []
    },
    {
      "cell_type": "code",
      "metadata": {
        "id": "sUDM5YPEs71G"
      },
      "source": [
        "!qiime diversity alpha-group-significance \\\n",
        "--i-alpha-diversity /content/sample_data/CoreDiversityMetrics/faith_pd_vector.qza \\\n",
        "--m-metadata-file {metadata_file_path} \\\n",
        "--o-visualization faith-alpha-group-significance.qzv\n",
        "\n",
        "!qiime diversity alpha-group-significance \\\n",
        "--i-alpha-diversity /content/sample_data/CoreDiversityMetrics/evenness_vector.qza \\\n",
        "--m-metadata-file {metadata_file_path} \\\n",
        "--o-visualization evenness-alpha-group-significance.qzv"
      ],
      "execution_count": null,
      "outputs": []
    },
    {
      "cell_type": "code",
      "metadata": {
        "id": "NSBMfE7Xtt1m"
      },
      "source": [
        "!qiime feature-table core-features \\\n",
        "--i-table FeatureTable-TaxaCollapse.qza \\\n",
        "--p-min-fraction .05 \\\n",
        "--output-dir core"
      ],
      "execution_count": null,
      "outputs": []
    }
  ]
}