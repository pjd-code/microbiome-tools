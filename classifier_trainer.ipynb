{
  "nbformat": 4,
  "nbformat_minor": 0,
  "metadata": {
    "colab": {
      "name": "classifier-trainer.ipynb",
      "provenance": [],
      "collapsed_sections": [],
      "authorship_tag": "ABX9TyNzd41n7ZCjTHL8tDRYUGSO",
      "include_colab_link": true
    },
    "kernelspec": {
      "name": "python3",
      "display_name": "Python 3"
    },
    "language_info": {
      "name": "python"
    }
  },
  "cells": [
    {
      "cell_type": "markdown",
      "metadata": {
        "id": "view-in-github",
        "colab_type": "text"
      },
      "source": [
        "<a href=\"https://colab.research.google.com/github/pjd-code/microbiome-tools/blob/main/classifier_trainer.ipynb\" target=\"_parent\"><img src=\"https://colab.research.google.com/assets/colab-badge.svg\" alt=\"Open In Colab\"/></a>"
      ]
    },
    {
      "cell_type": "markdown",
      "metadata": {
        "id": "kjVb09C9ADKf"
      },
      "source": [
        "https://docs.qiime2.org/2021.8/tutorials/feature-classifier/"
      ]
    },
    {
      "cell_type": "code",
      "metadata": {
        "id": "XB1dj98Up_fX"
      },
      "source": [
        "!git clone https://gist.github.com/pjd-code/c4665eb0c55e26f61fb5c9f83d9f3fa1"
      ],
      "execution_count": null,
      "outputs": []
    },
    {
      "cell_type": "code",
      "metadata": {
        "id": "Gl90KPOGqKIr"
      },
      "source": [
        "%run /content/c4665eb0c55e26f61fb5c9f83d9f3fa1/setup_qiime2.py"
      ],
      "execution_count": null,
      "outputs": []
    },
    {
      "cell_type": "code",
      "metadata": {
        "id": "9wbOmDUFsnit"
      },
      "source": [
        "%cd /content/sample_data"
      ],
      "execution_count": null,
      "outputs": []
    },
    {
      "cell_type": "code",
      "metadata": {
        "id": "RQAZbxuMm_ro"
      },
      "source": [
        "#retrives green genes 13_5 fasta files\n",
        "!wget \"https://gg-sg-web.s3-us-west-2.amazonaws.com/downloads/greengenes_database/gg_13_5/gg_13_5.fasta.gz\"\n",
        "\n",
        "!gunzip gg_13_5.fasta.gz"
      ],
      "execution_count": 14,
      "outputs": []
    },
    {
      "cell_type": "code",
      "metadata": {
        "id": "MHImwo2KpFNp"
      },
      "source": [
        "#retrives green genes 13_5 taxonomy\n",
        "!wget \"https://gg-sg-web.s3-us-west-2.amazonaws.com/downloads/greengenes_database/gg_13_5/gg_13_5_taxonomy.txt.gz\"\n",
        "\n",
        "!gunzip gg_13_5_taxonomy.txt.gz"
      ],
      "execution_count": null,
      "outputs": []
    },
    {
      "cell_type": "code",
      "metadata": {
        "id": "_FyFPo50qB1b"
      },
      "source": [
        "!qiime tools import \\\n",
        "--input-path gg_13_5.fasta \\\n",
        "--output-path gg_13_5_OTUs.qza \\\n",
        "--type 'FeatureData[Sequence]'"
      ],
      "execution_count": null,
      "outputs": []
    },
    {
      "cell_type": "code",
      "metadata": {
        "id": "FmdqiY4Nv--k"
      },
      "source": [
        "!qiime tools import \\\n",
        "  --type 'FeatureData[Taxonomy]' \\\n",
        "  --input-format HeaderlessTSVTaxonomyFormat \\\n",
        "  --input-path gg_13_5_taxonomy.txt \\\n",
        "  --output-path gg_13_5_taxonomy.qza"
      ],
      "execution_count": null,
      "outputs": []
    },
    {
      "cell_type": "code",
      "metadata": {
        "id": "n9_tGh84wfs9"
      },
      "source": [
        "#V4 region 97% OTUs\n",
        "!qiime feature-classifier extract-reads \\\n",
        "  --i-sequences gg_13_5_OTUs.qza \\\n",
        "  --p-f-primer GTGYCAGCMGCCGCGGTAA \\\n",
        "  --p-r-primer GGACTACNVGGGTWTCTAAT \\\n",
        "  --p-trunc-len 300 \\\n",
        "  --p-min-length 250 \\\n",
        "  --p-max-length 350 \\\n",
        "  --o-reads v4_gg_13_5_ref-seqs.qza"
      ],
      "execution_count": null,
      "outputs": []
    },
    {
      "cell_type": "code",
      "metadata": {
        "id": "Eix6_e7lwhJ0"
      },
      "source": [
        "!qiime feature-classifier fit-classifier-naive-bayes \\\n",
        "  --i-reference-reads v4_gg_13_5_ref-seqs.qza \\\n",
        "  --i-reference-taxonomy gg_13_5_taxonomy.qza \\\n",
        "  --o-classifier v4_gg_13_5_classifier.qza"
      ],
      "execution_count": null,
      "outputs": []
    },
    {
      "cell_type": "code",
      "metadata": {
        "id": "3FvRLka_whCk"
      },
      "source": [
        "#V3 region 97% OTUs\n",
        "!qiime feature-classifier extract-reads \\\n",
        "  --i-sequences gg_13_5_OTUs.qza \\\n",
        "  --p-f-primer CCTACGGGNGGCWGCAG \\\n",
        "  --p-r-primer GTATTACCGCGGCTGCTGG \\\n",
        "  --p-trunc-len 200 \\\n",
        "  --p-min-length 150 \\\n",
        "  --p-max-length 250 \\\n",
        "  --o-reads v3_gg_13_5_ref-seqs.qza"
      ],
      "execution_count": null,
      "outputs": []
    },
    {
      "cell_type": "code",
      "metadata": {
        "id": "ZzrLUut7wg4T"
      },
      "source": [
        "!qiime feature-classifier fit-classifier-naive-bayes \\\n",
        "  --i-reference-reads v3_gg_13_5_ref-seqs.qza \\\n",
        "  --i-reference-taxonomy gg_13_5_taxonomy.qza \\\n",
        "  --o-classifier v3_gg_13_5_classifier.qza"
      ],
      "execution_count": null,
      "outputs": []
    }
  ]
}